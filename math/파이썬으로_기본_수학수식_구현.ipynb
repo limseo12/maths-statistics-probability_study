{
  "nbformat": 4,
  "nbformat_minor": 0,
  "metadata": {
    "colab": {
      "private_outputs": true,
      "provenance": [],
      "authorship_tag": "ABX9TyO31ULvIIbZ8b3SVRsS4sbP",
      "include_colab_link": true
    },
    "kernelspec": {
      "name": "python3",
      "display_name": "Python 3"
    },
    "language_info": {
      "name": "python"
    }
  },
  "cells": [
    {
      "cell_type": "markdown",
      "metadata": {
        "id": "view-in-github",
        "colab_type": "text"
      },
      "source": [
        "<a href=\"https://colab.research.google.com/github/limseo12/maths-statistics-probability_study/blob/main/math/%ED%8C%8C%EC%9D%B4%EC%8D%AC%EC%9C%BC%EB%A1%9C_%EA%B8%B0%EB%B3%B8_%EC%88%98%ED%95%99%EC%88%98%EC%8B%9D_%EA%B5%AC%ED%98%84.ipynb\" target=\"_parent\"><img src=\"https://colab.research.google.com/assets/colab-badge.svg\" alt=\"Open In Colab\"/></a>"
      ]
    },
    {
      "cell_type": "markdown",
      "source": [
        "파이썬으로 기본 수학수식 구현"
      ],
      "metadata": {
        "id": "q1ZuOuSiGbwC"
      }
    },
    {
      "cell_type": "markdown",
      "source": [
        "xi"
      ],
      "metadata": {
        "id": "NyqoHIQ4Gr3w"
      }
    },
    {
      "cell_type": "code",
      "source": [
        "x = [10, 20, 30]\n",
        "i = 0\n",
        "print(x[i]) # = 10\n",
        "\n",
        "for i in range(len(x)):\n",
        "  print(x[i])"
      ],
      "metadata": {
        "id": "vBWcL1pnGsje"
      },
      "execution_count": null,
      "outputs": []
    },
    {
      "cell_type": "markdown",
      "source": [
        "이것은 2D vectors 등으로 확장될수 있습니다.\n",
        "xij"
      ],
      "metadata": {
        "id": "z7gklbhZHHMT"
      }
    },
    {
      "cell_type": "code",
      "source": [
        "x = [ [10, 20, 30], [40, 50, 60]]\n",
        "i = 0\n",
        "j = 0\n",
        "print(x[i][j])  # = 10\n",
        "\n",
        "for i in range(len(x)):\n",
        "  for j in range(len(x[i])):\n",
        "    print(x[i][j])"
      ],
      "metadata": {
        "id": "cAAWISnNHIpp"
      },
      "execution_count": null,
      "outputs": []
    },
    {
      "cell_type": "markdown",
      "source": [
        "Sigma \n",
        "\n",
        "다음 수식은 주어진 범위에 대한 vector의 모든 요소의 합을 나타낸다.\n",
        "하한 i = 1부터 상한 n 까지를 모두 포함한다.\n",
        "파이썬에서는 index 0부터 index N-1까지 벡터를 반복하는 것과 같다."
      ],
      "metadata": {
        "id": "8apITRUfHXm5"
      }
    },
    {
      "cell_type": "code",
      "source": [
        "x = [1, 2, 3, 4, 5]\n",
        "result = 0\n",
        "N = len(x)\n",
        "for i in range(N):\n",
        "  result += x[i]\n",
        "print(result)"
      ],
      "metadata": {
        "id": "H1Q_K_HiHaCS"
      },
      "execution_count": null,
      "outputs": []
    },
    {
      "cell_type": "markdown",
      "source": [
        "위 코드는 파이썬내에 built-in functions를 사용하여 다음과 같이 간단하게 나타낼 수 있다."
      ],
      "metadata": {
        "id": "n2jrSrcnIPO3"
      }
    },
    {
      "cell_type": "code",
      "source": [
        "x = [1, 2, 3, 4, 5]\n",
        "result = sum(x)"
      ],
      "metadata": {
        "id": "yj3GpiMkH8IR"
      },
      "execution_count": null,
      "outputs": []
    },
    {
      "cell_type": "markdown",
      "source": [
        "Average\n",
        "여기서 Sigma 표기법을 다시 사용하고 벡터의 원소 개수로 나뉘어 평균을 구한다."
      ],
      "metadata": {
        "id": "eKygfrMXIWUe"
      }
    },
    {
      "cell_type": "code",
      "source": [
        "x = [1, 2, 3, 4, 5]\n",
        "result = 0\n",
        "N = len(x)\n",
        "for i in range(N):\n",
        "  result = result + x[i]\n",
        "average = result / N\n",
        "print(average)"
      ],
      "metadata": {
        "id": "AFJMLlHZImFz"
      },
      "execution_count": null,
      "outputs": []
    },
    {
      "cell_type": "markdown",
      "source": [
        "위 코드를 마찬가지로 간단히 나타내면 다음과 같다."
      ],
      "metadata": {
        "id": "tX6ONTsqI8QL"
      }
    },
    {
      "cell_type": "code",
      "source": [
        "x = [1, 2, 3, 4, 5]\n",
        "result = sum(x) / len(x)"
      ],
      "metadata": {
        "id": "Xbcc7ZCLI5f5"
      },
      "execution_count": null,
      "outputs": []
    },
    {
      "cell_type": "markdown",
      "source": [
        "PI\n",
        "\n",
        "다음 수식은 주어진 범위에 대한 vector의 모든 원소의 곱을 나타낸다."
      ],
      "metadata": {
        "id": "f2xJ2NiVJB8_"
      }
    },
    {
      "cell_type": "code",
      "source": [
        "x = [1, 2, 3, 4, 5]\n",
        "result = 1\n",
        "N = len(x)\n",
        "for i in range(N):\n",
        "  result *= x[i]\n",
        "print(result)"
      ],
      "metadata": {
        "id": "LQAsm5BRJGG_"
      },
      "execution_count": null,
      "outputs": []
    },
    {
      "cell_type": "markdown",
      "source": [
        "Absolute Value\\\n",
        "||x||\\\n",
        "||y||\\\n",
        "다음 수식은 수의 절대값을 나타냅니다."
      ],
      "metadata": {
        "id": "uzgyAv3mJhtf"
      }
    },
    {
      "cell_type": "code",
      "source": [
        "x = 10\n",
        "y = -20\n",
        "abs(x)  # 10\n",
        "abs(y)  # 20"
      ],
      "metadata": {
        "id": "vISRfLcuJc7u"
      },
      "execution_count": null,
      "outputs": []
    },
    {
      "cell_type": "markdown",
      "source": [
        "Norm of vector\\\n",
        "||x|||\\\n",
        "Norm은 vector의 크기를 계산하는데 사용된다.\\\n",
        "파이썬에서는 array의 각 원소를 제곱하여 더한 다음 제곱근을 취하는 것을 의미한다."
      ],
      "metadata": {
        "id": "r0mprDIGJv4l"
      }
    },
    {
      "cell_type": "code",
      "source": [
        "import math\n",
        "\n",
        "x = [1, 2, 3]\n",
        "math.sqrt(x[0]**2 + x[1]**2 + x[2]**2)\n",
        "# or\n",
        "math.sqrt(sum([v**2 for v in x]))"
      ],
      "metadata": {
        "id": "0jsLM7oDJ5rg"
      },
      "execution_count": null,
      "outputs": []
    },
    {
      "cell_type": "markdown",
      "source": [
        "Belongs to\\\n",
        "\n",
        "다음 수식은 만일 원소가 집합의 부분집합인지를 확인하는 수식이다.\n",
        "파이썬에서는 다음과 같다."
      ],
      "metadata": {
        "id": "l1a0c1K1KS-a"
      }
    },
    {
      "cell_type": "code",
      "source": [
        "x = {1, 2, 3}\n",
        "print(3 in X) #True"
      ],
      "metadata": {
        "id": "-Rf3usQ7UKDh"
      },
      "execution_count": null,
      "outputs": []
    },
    {
      "cell_type": "markdown",
      "source": [
        "Function\\\n",
        "f: X -> Y\\\n",
        "다음은 도메인 X를 가져와서 범위 Y에 매핑하는 함수를 나타낸다.\\\n",
        "파이썬에서는 X 값들을 가져와 계산하여 Y값들 구하는 작업과 같다."
      ],
      "metadata": {
        "id": "NSlSiBrmUPiD"
      }
    },
    {
      "cell_type": "code",
      "source": [
        "def f(x):\n",
        "  Y = ...\n",
        "  return Y"
      ],
      "metadata": {
        "id": "ozbLznnFUeMY"
      },
      "execution_count": null,
      "outputs": []
    },
    {
      "cell_type": "markdown",
      "source": [
        "F : R -> R\\\n",
        "R은 input과 output이 실수임을 나타내고 실수 어느값도 될 수 있다.(integer,float,irrational,rational)\\\n",
        "파이썬에서 이것은 complex numbers(복소수)를 제외한 어떤 값이다.\n"
      ],
      "metadata": {
        "id": "38SY_SD8Uhhl"
      }
    },
    {
      "cell_type": "code",
      "source": [
        "import math\n",
        "x = 1\n",
        "y = 2.5\n",
        "z = math.pi\n",
        "\n",
        "def f(k):\n",
        "  k = ...\n",
        "  return k"
      ],
      "metadata": {
        "id": "P_ogZ3BNVQLQ"
      },
      "execution_count": null,
      "outputs": []
    },
    {
      "cell_type": "markdown",
      "source": [
        "f: R^d -> R \\\n",
        "R^f는 실수의 d-차원 vector를 의미한다.\\\n",
        "d = 2 라고 가정하면 파이썬에서 다음 예시와 같이 2-D list를 입력으로 받고 그것의 합을 return 하는 funtion일 수 있다.\\\n",
        "이것은 R^d 에서 R 로 mapping하는 것을 의미한다."
      ],
      "metadata": {
        "id": "mK4lD12wVXOq"
      }
    },
    {
      "cell_type": "code",
      "source": [
        "x = [1,2]\n",
        "f = sum\n",
        "y = f(x)"
      ],
      "metadata": {
        "id": "d32uOlkUVqTN"
      },
      "execution_count": null,
      "outputs": []
    },
    {
      "cell_type": "markdown",
      "source": [
        "Tensor\\\n",
        "Transpose\\\n",
        "X^t\\\n",
        "다음 수식은 기본적으로 행과 열을 바꾸는것이다.\\\n",
        "파이썬에서는 다음과 같다."
      ],
      "metadata": {
        "id": "ZoaBSyegWfss"
      }
    },
    {
      "cell_type": "code",
      "source": [
        "import numpy as np\n",
        "x = [[1, 2, 3],[4,5,6]]\n",
        "np.transpose(x)"
      ],
      "metadata": {
        "id": "0M02QIgMWj-p"
      },
      "execution_count": null,
      "outputs": []
    },
    {
      "cell_type": "markdown",
      "source": [
        "output은 행과 열이 바뀐 list로 다음과 같다."
      ],
      "metadata": {
        "id": "kCZ0sJ7UW6Qe"
      }
    },
    {
      "cell_type": "code",
      "source": [
        "[[1, 4],\n",
        " [2, 5],\n",
        " [3, 6]]"
      ],
      "metadata": {
        "id": "ndD6a5-SW8q8"
      },
      "execution_count": null,
      "outputs": []
    },
    {
      "cell_type": "markdown",
      "source": [
        "Element wise multiplication\\\n",
        "z = x y\\\n",
        "이 수식은 두개의 tensor에서 해당 원소들끼리의 곱을 의미한다.\\\n",
        "파이썬에서는 다음과 같이 두개의 list의 해당 원소들을 곱하는 것과 같다."
      ],
      "metadata": {
        "id": "aO4Rwy35XRaF"
      }
    },
    {
      "cell_type": "code",
      "source": [
        "import numpy as np\n",
        "x = [[1,2],\n",
        "     [3,4]]\n",
        "y = [[2,2],\n",
        "     [2,2]]\n",
        "z = np.multiply(x,y)\n",
        "\n",
        "print(z)"
      ],
      "metadata": {
        "id": "ts_MIUOiYQVV"
      },
      "execution_count": null,
      "outputs": []
    },
    {
      "cell_type": "markdown",
      "source": [
        "Dot Product\\\n",
        "xy\\\n",
        "다음 수식은 내적(inner product)라고 하며 dot product라고도 한다.\\\n",
        "두 벡터를 내적하려면 두 벡터의 차원(길이)가 같아야한다.\\\n",
        "열벡터 x = [1, 2 , 3 ] , 열벡터 y = [4. 5. 6]\\\n",
        "x^Ty = [1 ,2 ,3 ] [4 , 5, 6] = 1 * 4 + 2 * 5 + 3 * 6 = 32"
      ],
      "metadata": {
        "id": "Om1Heq7RYq5s"
      }
    },
    {
      "cell_type": "code",
      "source": [
        "x = [1, 2, 3]\n",
        "y = [4, 5, 6]\n",
        "dot = sum([i*j for i, j in zip(x, y)])\n",
        "# 1 * 4 + 2 * 5 + 3 * 6\n",
        "# 32"
      ],
      "metadata": {
        "id": "HZ7lhc1UZQ1E"
      },
      "execution_count": null,
      "outputs": []
    },
    {
      "cell_type": "markdown",
      "source": [
        "Hat\\\n",
        "x hat"
      ],
      "metadata": {
        "id": "zzQbpb2uZde7"
      }
    },
    {
      "cell_type": "markdown",
      "source": [
        "hat은 단위벡터를 뜻한다. 이것은 vector의 각 구성원소를 길이(norm)으로 나누는 것을 의미한다."
      ],
      "metadata": {
        "id": "0Bk9fhGGZmvd"
      }
    },
    {
      "cell_type": "code",
      "source": [
        "import math\n",
        "x = [1, 2, 3]\n",
        "length = math.sqrt(sum([e**2 for e in x]))\n",
        "x_hat = [e/length for e in x]"
      ],
      "metadata": {
        "id": "p_SJDF4vZs-7"
      },
      "execution_count": null,
      "outputs": []
    },
    {
      "cell_type": "markdown",
      "source": [
        "이것은 벡터의 방향은 유지하면서 벡터의 크기는 1로 만든다."
      ],
      "metadata": {
        "id": "SKPKeFgZZ2MU"
      }
    },
    {
      "cell_type": "code",
      "source": [
        "import math\n",
        "math.sqrt(sum(x**2 for x in x_hat))"
      ],
      "metadata": {
        "id": "6L-13VPxZ4iL"
      },
      "execution_count": null,
      "outputs": []
    },
    {
      "cell_type": "markdown",
      "source": [
        "Exclamation\\\n",
        "x!\\\n",
        "이것은 factorial을 나타낸다. 1부터 그 숫자까지의 곱을 의미한다.\\\n",
        "파이썬에서는 다음과 같이 표현 할 수 있다.\n"
      ],
      "metadata": {
        "id": "Ow-t9NYrZ88d"
      }
    },
    {
      "cell_type": "code",
      "source": [
        "x = 5\n",
        "fact = 1\n",
        "for i in range(x, 0, -1):\n",
        "  fact *= i # fact = fact * i\n",
        "print(fact)"
      ],
      "metadata": {
        "id": "voniAI6yaFCb"
      },
      "execution_count": null,
      "outputs": []
    },
    {
      "cell_type": "markdown",
      "source": [
        "이것은 다음 built-in function으로 계산할 수 있다"
      ],
      "metadata": {
        "id": "YMJanTn9a7fF"
      }
    },
    {
      "cell_type": "code",
      "source": [
        "import math\n",
        "x = 5\n",
        "math.factorial(x)"
      ],
      "metadata": {
        "id": "qcDggFFYa-nv"
      },
      "execution_count": null,
      "outputs": []
    }
  ]
}